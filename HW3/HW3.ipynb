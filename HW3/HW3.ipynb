{
 "cells": [
  {
   "cell_type": "markdown",
   "metadata": {},
   "source": [
    "# Homework II\n",
    "\n",
    "### Grupo 003\n",
    "\n",
    "(ist1107028) Inês Paredes\n",
    "\n",
    "(ist1107137) Margarida Lourenço\n",
    "\n",
    "\n",
    "## II. Programming [8v]\n",
    "\n",
    "Consider the parkinsons.csv dataset (available at the course’s webpage), where the goal is\n",
    "to predict a patient’s score on the Uniﬁed Parkinson’s Disease Rating Scale based on various\n",
    "biomedical measurements.\n",
    "\n",
    "To answer question 5), average the performance of the models over 10 separate runs. In each\n",
    "run, use a diﬀerent 80-20 train-test split by setting a random_state=i, with i=1..10."
   ]
  },
  {
   "cell_type": "markdown",
   "metadata": {},
   "source": [
    "**5) [2v] Train a Linear Regression model, an MLP Regressor with 2 hidden layers of 10\n",
    "neurons each and no activation functions, and another MLP Regressor with 2 hidden\n",
    "layers of 10 neurons each using ReLU activation functions. (Use random_state=0 on the\n",
    "MLPs, regardless of the run). Plot a boxplot of the test MAE of each model.**"
   ]
  },
  {
   "cell_type": "code",
   "execution_count": null,
   "metadata": {},
   "outputs": [],
   "source": []
  },
  {
   "cell_type": "markdown",
   "metadata": {},
   "source": [
    "**6) [3v] Compare a Linear Regression with a MLP with no activations, and explain the impact\n",
    "and the importance of using activation functions in a MLP. Support your reasoning with the\n",
    "results from the boxplots.**"
   ]
  },
  {
   "cell_type": "code",
   "execution_count": null,
   "metadata": {},
   "outputs": [],
   "source": []
  },
  {
   "cell_type": "markdown",
   "metadata": {},
   "source": []
  },
  {
   "cell_type": "markdown",
   "metadata": {},
   "source": [
    "**7. [4v] Using a 80-20 train-test split with random_state=0, use a Grid Search to tune the\n",
    "hyperparameters of an MLP regressor with two hidden layers (size 10 each). The\n",
    "parameters to search over are: (i) L2 penalty, with the values {0.0001, 0.001, 0.01}; (ii)\n",
    "learning rate, with the values {0.001, 0.01, 0.1}; and (iii) batch size, with the values\n",
    "{32, 64, 128}. Plot the test MAE for each combination of hyperparameters, report the\n",
    "best combination, and discuss the trade-oﬀs between the combinations.**"
   ]
  },
  {
   "cell_type": "code",
   "execution_count": null,
   "metadata": {},
   "outputs": [],
   "source": []
  },
  {
   "cell_type": "markdown",
   "metadata": {},
   "source": []
  }
 ],
 "metadata": {
  "kernelspec": {
   "display_name": "Python 3",
   "language": "python",
   "name": "python3"
  },
  "language_info": {
   "codemirror_mode": {
    "name": "ipython",
    "version": 3
   },
   "file_extension": ".py",
   "mimetype": "text/x-python",
   "name": "python",
   "nbconvert_exporter": "python",
   "pygments_lexer": "ipython3",
   "version": "3.10.6"
  }
 },
 "nbformat": 4,
 "nbformat_minor": 2
}
