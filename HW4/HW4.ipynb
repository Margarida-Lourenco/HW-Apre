{
 "cells": [
  {
   "cell_type": "markdown",
   "metadata": {},
   "source": [
    "# Homework II\n",
    "\n",
    "### Grupo 003\n",
    "\n",
    "(ist1107028) Inês Paredes\n",
    "\n",
    "(ist1107137) Margarida Lourenço\n",
    "\n",
    "\n",
    "## II. Programming and critical analysis [11v]\n",
    "\n",
    "In the next exercise you will use the accounts.csv dataset. This dataset contains account details\n",
    "of bank clients, and the target variable y is binary (‘has the client subscribed a term deposit?’)."
   ]
  },
  {
   "cell_type": "markdown",
   "metadata": {},
   "source": [
    "**1) [4v] Select the ﬁrst 8 features and remove duplicates and null values. Normalize the data\n",
    "using MinMaxScaler. Using sklearn, apply k-means clustering (without targets) on the\n",
    "normalized data with k= {2,3,4,5,6,7,8}. Apply k-means randomly initialized, using max_iter\n",
    "= 500 and random_state = 42. Plot the diﬀerent sum of squared errors (SSE) using the\n",
    "_inertia attribute of k-means according to the number of clusters.**\n",
    "\n",
    "**Hint:** You can use get_dummies() to change the feature type from categorical to numerical\n",
    "(e.g. pd.get_dummies(data, drop_ﬁrst=True))"
   ]
  },
  {
   "cell_type": "code",
   "execution_count": null,
   "metadata": {},
   "outputs": [],
   "source": []
  },
  {
   "cell_type": "markdown",
   "metadata": {},
   "source": [
    "**2) [1.5v] According to the previous plot, how many underlying customer segments (clusters)\n",
    "should there be ? Explain based on the trade oﬀ between the clusters and inertia.**"
   ]
  },
  {
   "cell_type": "markdown",
   "metadata": {},
   "source": []
  },
  {
   "cell_type": "markdown",
   "metadata": {},
   "source": [
    "**3) [1.5v] Would k-modes be a better clustering approach ? Explain why based on the dataset\n",
    "features.**"
   ]
  },
  {
   "cell_type": "markdown",
   "metadata": {},
   "source": []
  },
  {
   "cell_type": "markdown",
   "metadata": {},
   "source": [
    "**4) [2v] Apply PCA to the data :**\n",
    "\n",
    "**a. Use StandardScaler to scale the data before you apply ﬁt_transform. How much\n",
    "variability is explained by the top 2 components ?**"
   ]
  },
  {
   "cell_type": "code",
   "execution_count": null,
   "metadata": {},
   "outputs": [],
   "source": []
  },
  {
   "cell_type": "markdown",
   "metadata": {},
   "source": []
  },
  {
   "cell_type": "markdown",
   "metadata": {},
   "source": [
    "**b. Provide a scatterplot according to the ﬁrst 2 principal components and color the\n",
    "points according to k=3 clusters. Can we clearly separate the clusters ? Justify.**"
   ]
  },
  {
   "cell_type": "code",
   "execution_count": null,
   "metadata": {},
   "outputs": [],
   "source": []
  },
  {
   "cell_type": "markdown",
   "metadata": {},
   "source": []
  },
  {
   "cell_type": "markdown",
   "metadata": {},
   "source": [
    "**5) [2v] Plot the cluster conditional features of the frequencies of “job” and ”education”\n",
    "according to k-means, with multiple=\"dodge\", stat='density', shrink=0.8,\n",
    "common_norm=False. Analyze the frequency plots using sns.displot, (see Data Exploration\n",
    "notebook). Describe the main diﬀerences between the clusters in no more than half page.**"
   ]
  },
  {
   "cell_type": "code",
   "execution_count": null,
   "metadata": {},
   "outputs": [],
   "source": []
  },
  {
   "cell_type": "markdown",
   "metadata": {},
   "source": []
  }
 ],
 "metadata": {
  "kernelspec": {
   "display_name": "Python 3",
   "language": "python",
   "name": "python3"
  },
  "language_info": {
   "codemirror_mode": {
    "name": "ipython",
    "version": 3
   },
   "file_extension": ".py",
   "mimetype": "text/x-python",
   "name": "python",
   "nbconvert_exporter": "python",
   "pygments_lexer": "ipython3",
   "version": "3.10.6"
  }
 },
 "nbformat": 4,
 "nbformat_minor": 2
}
