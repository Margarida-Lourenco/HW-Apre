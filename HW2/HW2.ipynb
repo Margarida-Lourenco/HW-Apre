{
 "cells": [
  {
   "cell_type": "markdown",
   "metadata": {},
   "source": [
    "# Homework II\n",
    "\n",
    "### Grupo 003\n",
    "\n",
    "(ist1107028) Inês Paredes\n",
    "\n",
    "(ist1107137) Margarida Lourenço\n",
    "\n",
    "\n",
    "## II. Programming [7v]\n",
    "\n",
    "Consider the heart-disease.csv dataset available at the course webpage’s homework tab.\n",
    "Using sklearn, apply a 5-fold stratiﬁed cross-validation with shuﬄing (random_state=0) for the\n",
    "assessment of predictive models along this section."
   ]
  },
  {
   "cell_type": "markdown",
   "metadata": {},
   "source": [
    "**1) Compare the performance of a with and a naïve Bayes with Gaussian𝑘𝑁𝑁 𝑘 = 5\n",
    "assumption (consider all remaining parameters as default):**\n",
    "\n",
    "**a. [1.0v] Plot two boxplots with the fold accuracies for each classiﬁer. Is there one\n",
    "more stable than the other regarding performance? Why do you think that is the\n",
    "case? Explain.**"
   ]
  },
  {
   "cell_type": "code",
   "execution_count": null,
   "metadata": {},
   "outputs": [],
   "source": []
  },
  {
   "cell_type": "markdown",
   "metadata": {},
   "source": [
    "**b. [1.0v] Report the accuracy of both models, this time scaling the data with a\n",
    "Min-Max scaler before training the models. Explain the impact that this\n",
    "preprocessing step has on the performance of each model, providing an\n",
    "explanation for the results.**"
   ]
  },
  {
   "cell_type": "code",
   "execution_count": null,
   "metadata": {},
   "outputs": [],
   "source": []
  },
  {
   "cell_type": "markdown",
   "metadata": {},
   "source": [
    "**c. [1.0v] Using scipy, test the hypothesis “the model is statistically superior to𝑘𝑁𝑁\n",
    "naïve Bayes regarding accuracy”, asserting whether it is true.**"
   ]
  },
  {
   "cell_type": "code",
   "execution_count": null,
   "metadata": {},
   "outputs": [],
   "source": []
  },
  {
   "cell_type": "markdown",
   "metadata": {},
   "source": [
    "**2) Using a 80-20 train-test split, vary the number of neighbors of a classiﬁer using𝑘𝑁𝑁\n",
    ". Additionally, for each , train one classiﬁer using uniform weights𝑘 = {1, 5, 10, 20, 30} 𝑘\n",
    "and distance weights.**\n",
    "\n",
    "**a. [1.0v] Plot the train and test accuracy for each model.**"
   ]
  },
  {
   "cell_type": "code",
   "execution_count": null,
   "metadata": {},
   "outputs": [],
   "source": []
  },
  {
   "cell_type": "markdown",
   "metadata": {},
   "source": [
    "**b. [1.5v] Explain the impact of increasing the neighbors on the generalization ability of\n",
    "the models.**"
   ]
  },
  {
   "cell_type": "markdown",
   "metadata": {},
   "source": [
    "**3) [1.5v] Considering the unique properties of the heart-disease.csv dataset, identify two\n",
    "possible diﬃculties of the naïve Bayes model used in the previous exercises when learning\n",
    "from the given dataset.**"
   ]
  }
 ],
 "metadata": {
  "language_info": {
   "name": "python"
  }
 },
 "nbformat": 4,
 "nbformat_minor": 2
}
